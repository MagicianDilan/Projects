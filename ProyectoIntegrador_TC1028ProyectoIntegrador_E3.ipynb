{
  "nbformat": 4,
  "nbformat_minor": 0,
  "metadata": {
    "colab": {
      "name": "ProyectoIntegrador_E3.ipynb",
      "provenance": [],
      "mount_file_id": "1GI1VsO4p8Ak2hQpdc_BKTFKmSQ7SW1SN",
      "authorship_tag": "ABX9TyMV5E6JkYvp1HzySzYdTPxd",
      "include_colab_link": true
    },
    "kernelspec": {
      "name": "python3",
      "display_name": "Python 3"
    },
    "language_info": {
      "name": "python"
    }
  },
  "cells": [
    {
      "cell_type": "markdown",
      "metadata": {
        "id": "view-in-github",
        "colab_type": "text"
      },
      "source": [
        "<a href=\"https://colab.research.google.com/github/MagicianDilan/Projects/blob/main/ProyectoIntegrador_E3.ipynb\" target=\"_parent\"><img src=\"https://colab.research.google.com/assets/colab-badge.svg\" alt=\"Open In Colab\"/></a>"
      ]
    },
    {
      "cell_type": "code",
      "metadata": {
        "id": "qDJloK53Kvws"
      },
      "source": [
        "#    PROYECTO INTEGRADOR - Etapa 3\n",
        "#   Situación problema 1: El futuro de la salud con una pandemia única en el siglo.\n",
        "\n",
        "####TC1028. Pensamiento computacional para ingeniería (Gpo 800).\n",
        "####Profesor: Ing. Germán Domínguez Solís\n",
        "####Alumno: Dilan González Castañeda    A00831905\n",
        "####5 de Octubre de 2021\n",
        "####Link: https://colab.research.google.com/drive/1GI1VsO4p8Ak2hQpdc_BKTFKmSQ7SW1SN?usp=sharing\n"
      ],
      "execution_count": null,
      "outputs": []
    },
    {
      "cell_type": "markdown",
      "metadata": {
        "id": "WLRXWACjNnzY"
      },
      "source": [
        "#FUNCIONES"
      ]
    },
    {
      "cell_type": "markdown",
      "metadata": {
        "id": "WcH9Jxew8MCQ"
      },
      "source": [
        "### Buscar archivo y leerlo"
      ]
    },
    {
      "cell_type": "code",
      "metadata": {
        "id": "IhlCssjo8Rxr"
      },
      "source": [
        "import os.path\n",
        "def leer_archivo(nombre_archivo):\n",
        "    empleados = []\n",
        "    if os.path.exists(nombre_archivo):  #para checar si existe un archivo y si no al final crear uno\n",
        "        with open(nombre_archivo, 'r') as info: #Si existe, lo leerá\n",
        "            for linea in info:               #para leer la información linea por linea\n",
        "                linea = linea[:-1]            #para remover el \\n de cada linea\n",
        "                empleado = linea.split(\",\")\n",
        "                for elemento in empleado:\n",
        "                    i = empleado.index(elemento)\n",
        "                    if elemento.isdigit():       #para checar si en el elemento son puros numeros\n",
        "                        elemento = int(elemento)\n",
        "                    else:                       #de otra forma seria float o str\n",
        "                        try:                    #tratamos de covertir a float si no a str\n",
        "                            element = float(elemento)\n",
        "                        except:\n",
        "                            element = str(elemento)\n",
        "                    empleado[i] = elemento\n",
        "                empleados.append(empleado)\n",
        "    return empleados"
      ],
      "execution_count": null,
      "outputs": []
    },
    {
      "cell_type": "markdown",
      "metadata": {
        "id": "ECJ0otoeMjMX"
      },
      "source": [
        "\n",
        "### Pedir datos del empleado a ingresar\n"
      ]
    },
    {
      "cell_type": "code",
      "metadata": {
        "id": "52IZ07zAL3lM"
      },
      "source": [
        "def pedir_datos(nuevo_empleado):\n",
        "    nuevo_empleado.append(input(\"Teclea el nombre del empleado: \"))\n",
        "    nuevo_empleado.append(int(input(\"Teclea edad del empleado: \")))\n",
        "    nuevo_empleado.append(float(input(\"Teclea el peso (Kg.): \")))\n",
        "    nuevo_empleado.append(float(input(\"Teclea la estatura (Mts.): \")))\n",
        "    nuevo_empleado.append(int(input(\"Diabetes 1-Sí 0-No ?: \")))\n",
        "    nuevo_empleado.append(int(input(\"Hipertensión 1-Sí 0-No ?: \")))\n",
        "    nuevo_empleado.append(int(input(\"Enfermedad Corazón 1-Sí 0-No ?: \")))\n",
        "    nuevo_empleado.append(int(input(\"Cáncer 1-Sí 0-No ?: \")))\n",
        "    nuevo_empleado.append(int(input(\"Tabaquismo 1-Sí 0-No ?: \")))\n",
        "    nuevo_empleado.append(int(input(\"Vacuna Covid-19 1-Sí 0-No ?: \")))\n",
        "    nuevo_empleado.append(int(input(\"Teclea el número de departamento: \")))"
      ],
      "execution_count": null,
      "outputs": []
    },
    {
      "cell_type": "markdown",
      "metadata": {
        "id": "fTBT7XpiNlrb"
      },
      "source": [
        "###Dar de alto a nuevo empleado\n"
      ]
    },
    {
      "cell_type": "code",
      "metadata": {
        "id": "sXdpFnR-N139"
      },
      "source": [
        "def alta_empleado(empleados):\n",
        "    nuevo_empleado = []\n",
        "    nuevo_empleado.append(int(input(\"Teclea el id del empleado: \")))\n",
        "    pedir_datos(nuevo_empleado)\n",
        "    empleados.append(nuevo_empleado)\n",
        "    print(nuevo_empleado)"
      ],
      "execution_count": null,
      "outputs": []
    },
    {
      "cell_type": "markdown",
      "metadata": {
        "id": "FV4vA-yHN7-g"
      },
      "source": [
        "###Calcular el IMC de los empleados de todos los empleados y un reporte por categoria según el IMC."
      ]
    },
    {
      "cell_type": "code",
      "metadata": {
        "id": "VTvOrj8WONON"
      },
      "source": [
        "def clasificar_empleados_imc(empleados, IMC_lista, IMC_info):\n",
        "    for empleado in empleados:\n",
        "        IMC = float(empleado[3]) / float(empleado[4])**2\n",
        "        IMC = round(IMC, 2)\n",
        "\n",
        "        if IMC < 16:\n",
        "            IMC_lista.append([\"Delgadez severa\", IMC])\n",
        "            IMC_info[0][1] += 1\n",
        "        elif IMC >= 16 and IMC < 17:\n",
        "            IMC_lista.append([\"Delgadez moderada\", IMC])\n",
        "            IMC_info[1][1] += 1\n",
        "        elif IMC >= 17 and IMC < 18.5:\n",
        "            IMC_lista.append([\"Delgadez aceptable\", IMC])\n",
        "            IMC_info[2][1] += 1\n",
        "        elif IMC >= 18.5 and IMC < 25:\n",
        "            IMC_lista.append([\"Peso normal\", IMC])\n",
        "            IMC_info[3][1] += 1\n",
        "        elif IMC >= 25 and IMC < 30:\n",
        "            IMC_lista.append([\"Sobrepeso\", IMC])\n",
        "            IMC_info[4][1] += 1\n",
        "        elif IMC >= 30 and IMC < 35:\n",
        "            IMC_lista.append([\"Obeso tipo I\", IMC])\n",
        "            IMC_info[5][1] += 1\n",
        "        elif IMC >= 35 and IMC < 40:\n",
        "            IMC_lista.append([\"Obeso tipo II\", IMC])\n",
        "            IMC_info[6][1] += 1\n",
        "        elif IMC >= 40:\n",
        "            IMC_lista.append([\"Obeso tipo III\", IMC])\n",
        "            IMC_info[7][1] += 1\n",
        "def mostrar_tabla_imc(empleados, IMC_lista):\n",
        "    columnas = [\"Clasificación IMC\", \"IMC\", \"id\", \"Nombre\", \"Peso\", \"Altura\", \"Enfermedades\", \"Vacuna\"]\n",
        "    primera_linea = (columnas[0] + columnas[1].rjust(6) + columnas[2].rjust(6) + columnas[3].rjust(10) + \n",
        "    columnas[4].rjust(30) + columnas[5].rjust(8) + columnas[6].rjust(27) + columnas[7].rjust(41))\n",
        "\n",
        "    print(primera_linea)\n",
        "\n",
        "    for empleado in empleados:\n",
        "        i = empleados.index(empleado) #indice del empleado en empleados\n",
        "        linea = \"\"\n",
        "\n",
        "        for elemento in range (len(empleados[i])+len(IMC_lista[i])): #para llenar cada línea\n",
        "            if elemento == 0:\n",
        "                linea += str(IMC_lista[i][0]).ljust(21)\n",
        "            elif elemento == 1 :\n",
        "                linea += str(IMC_lista[i][1]).ljust(7)\n",
        "            elif elemento == 2:\n",
        "                linea += str(empleados[i][0]).ljust(6)\n",
        "            elif elemento == 3:\n",
        "                linea += str(empleados[i][1]).ljust(31)\n",
        "            elif elemento == 4:\n",
        "                linea += str(empleados[i][3]).ljust(7)\n",
        "            elif elemento == 5:\n",
        "                linea += str(empleados[i][4]).ljust(12)\n",
        "            elif elemento == 6:\n",
        "                if empleados[i][5] == 1:\n",
        "                    linea += \"diabetes\".ljust(10)\n",
        "                elif empleados[i][5] == 0:\n",
        "                    linea += \"--------\".ljust(10)\n",
        "            elif elemento == 7:\n",
        "                if empleados[i][6] == 1:\n",
        "                    linea += \"Hipertensión\".ljust(14)\n",
        "                elif empleados[i][6] == 0:\n",
        "                    linea += \"------------\".ljust(14)\n",
        "            elif elemento == 8:\n",
        "                if empleados[i][7] == 1:\n",
        "                    linea += \"Corazón\".ljust(9)\n",
        "                elif empleados[i][7] == 0:\n",
        "                    linea += \"--------\".ljust(9)\n",
        "            elif elemento == 9:\n",
        "                if empleados[i][8] == 1:\n",
        "                    linea += \"Cancer\".ljust(8)\n",
        "                elif empleados[i][8] == 0:\n",
        "                    linea += \"--------\".ljust(6)\n",
        "            elif elemento == 10:\n",
        "                if empleados[i][9] == 1:\n",
        "                    linea += \"tabaquismo\".rjust(12)\n",
        "                elif empleados[i][9] == 0:\n",
        "                    linea += \"----------\".rjust(12)\n",
        "            elif elemento == 11:\n",
        "                if empleados[i][10] == 1:\n",
        "                    linea += \"Con Vacuna\".rjust(12)\n",
        "                elif empleados[i][10] == 0:\n",
        "                    linea += \"----------\".rjust(12)\n",
        "        print(linea)\n",
        "def mostrar_tabla_porCategoria(empleados, IMC_info):\n",
        "    print(\"   Diagnostico \\t  Cantidad \\t Porcentaje\")\n",
        "\n",
        "    tot_empleados = len(empleados)\n",
        "    contador = 0\n",
        "\n",
        "    for clasificacion in IMC_info:\n",
        "        if IMC_info[contador][1] != 0:\n",
        "            porcentaje = IMC_info[contador][1] * 100 / tot_empleados\n",
        "            porcentaje = round(porcentaje, 2)\n",
        "            print(str(IMC_info[contador][0]).ljust(25) +  str(IMC_info[contador][1]).ljust(10) + str(porcentaje)+\"%\")\n",
        "        contador += 1\n",
        "        \n",
        "    print(f\"     Total de empleados: {tot_empleados}\")\n",
        "def calcular_imc(empleados):\n",
        "    IMC_lista = []  #Empleados y IMC_list están conectadas porque la infomación de un empleado se \n",
        "                      #se almacena con el mismo indice en ambas\n",
        "    IMC_info = [[\"Delgadez severa\",0],[\"Delgadez moderada\",0],[\"Delgadez aceptable\",0],[\"Peso normal\",0],\n",
        "    [\"Sobrepeso\",0],[\"Obeso tipo I\",0],[\"Obeso tipo II\",0],\n",
        "    [\"Obeso tipo III\",0]]            #Estos son contadores para saber cuánta gene hay en cada categoría\n",
        "    if len(empleados) > 0:\n",
        "      clasificar_empleados_imc(empleados, IMC_lista, IMC_info)\n",
        "      mostrar_tabla_imc(empleados, IMC_lista)\n",
        "      mostrar_tabla_porCategoria(empleados, IMC_info)\n",
        "    else:\n",
        "        print(\"NO SE HA REGISTRADO NINGÚN EMPLEADO AÚN.\")\n"
      ],
      "execution_count": null,
      "outputs": []
    },
    {
      "cell_type": "markdown",
      "metadata": {
        "id": "lXnjMP9fOWtf"
      },
      "source": [
        "###Actualizar la información de un empleado"
      ]
    },
    {
      "cell_type": "code",
      "metadata": {
        "id": "jVekFhuQOa-Z"
      },
      "source": [
        "def validar_id(empleados):\n",
        "    global i\n",
        "    global id\n",
        "    global existe\n",
        "    id = \"\"\n",
        "    while id == \"\":\n",
        "        id = input(\"Teclea el ID del empleado: \")\n",
        "        if id != \"\":\n",
        "            id = int(id)\n",
        "            for i in range(0, len(empleados), 1):\n",
        "                if id == empleados[i][0]:\n",
        "                    existe = True\n",
        "                    break\n",
        "                else:\n",
        "                    existe = False\n",
        "            if existe: \n",
        "                pass\n",
        "            else:\n",
        "                print(\"El empleado que busca no existe.\")              \n",
        "def actualizar_empleado(empleados):\n",
        "    validar_id(empleados)\n",
        "    if existe:\n",
        "        nuevo_empleado = []\n",
        "        nuevo_id = input(\"Teclea la información actualizada.\\n Presiona\" \n",
        "        \"<Enter> si no quieres hacer ningún cambio\\nTeclea el ID del empleado: \")\n",
        "        if nuevo_id == \"\":\n",
        "            pass\n",
        "        else:\n",
        "            nuevo_empleado.append(int(nuevo_id))\n",
        "            pedir_datos(nuevo_empleado)\n",
        "            print(nuevo_empleado)\n",
        "            cambios = input(\"¿Está seguro de que quiere actualizar los datos del empleado? si/no: \")\n",
        "            if cambios == \"si\":\n",
        "                empleados.pop(i)\n",
        "                empleados.insert(i, nuevo_empleado)"
      ],
      "execution_count": null,
      "outputs": []
    },
    {
      "cell_type": "markdown",
      "metadata": {
        "id": "8pIUTwdDPYdr"
      },
      "source": [
        "###Consultar la información de un empleado"
      ]
    },
    {
      "cell_type": "code",
      "metadata": {
        "id": "S-JyLbLpPf3-"
      },
      "source": [
        "def consultar_empleado(empleados):\n",
        "    validar_id(empleados)\n",
        "    if existe:\n",
        "        print(empleados[i])\n",
        "    else:\n",
        "      print(\"No existe empleado con ese ID.\")"
      ],
      "execution_count": null,
      "outputs": []
    },
    {
      "cell_type": "markdown",
      "metadata": {
        "id": "6svOM3MZPnKm"
      },
      "source": [
        "###Crear un reporte general"
      ]
    },
    {
      "cell_type": "code",
      "metadata": {
        "id": "Y0JOeDRGP7WF"
      },
      "source": [
        "def reporte_todos_empleados(empleados):\n",
        "    enfermedades = [[\"Diabetes\", 0], [\"Hipertensión\", 0], [\"Corazón\", 0], [\"Cáncer\", 0], \n",
        "    [\"Tabaquismo\", 0], [\"Vacunados\", 0]]\n",
        "    columnas = [\"Clasificación IMC\", \"IMC\", \"id\", \"Nombre\", \"Peso\", \"Altura\", \"Enfermedades\", \"Vacuna\"]\n",
        "    primera_linea = (columnas[2] + columnas[3].rjust(10) + \n",
        "    columnas[4].rjust(30) + columnas[5].rjust(8) + columnas[6].rjust(27) + columnas[7].rjust(41))\n",
        "    print(primera_linea)\n",
        "    if len(empleados) > 0:\n",
        "      for empleado in empleados:\n",
        "          i = empleados.index(empleado) #indice del empleado en \n",
        "          linea = \"\"\n",
        "          for elemento in range (len(empleados[i])): #to fill in the line with the info\n",
        "              if elemento == 0:\n",
        "                  linea += str(empleados[i][0]).ljust(6)\n",
        "              elif elemento == 1:\n",
        "                  linea += str(empleados[i][1]).ljust(31)\n",
        "              elif elemento == 2:\n",
        "                  linea += str(empleados[i][3]).ljust(7)\n",
        "              elif elemento == 3:\n",
        "                  linea += str(empleados[i][4]).ljust(12)\n",
        "              elif elemento == 4:\n",
        "                  if empleados[i][5] == 1:\n",
        "                      linea += \"diabetes\".ljust(10)\n",
        "                      enfermedades[0][1] += 1\n",
        "                  elif empleados[i][5] == 0:\n",
        "                      linea += \"--------\".ljust(10)\n",
        "              elif elemento == 5:\n",
        "                  if empleados[i][6] == 1:\n",
        "                      linea += \"Hipertensión\".ljust(14)\n",
        "                      enfermedades[1][1] += 1\n",
        "                  elif empleados[i][6] == 0:\n",
        "                      linea += \"------------\".ljust(14)\n",
        "              elif elemento == 6:\n",
        "                  if empleados[i][7] == 1:\n",
        "                      linea += \"Corazón\".ljust(9)\n",
        "                      enfermedades[2][1] += 1\n",
        "                  elif empleados[i][7] == 0:\n",
        "                      linea += \"--------\".ljust(9)\n",
        "              elif elemento == 7:\n",
        "                  if empleados[i][8] == 1:\n",
        "                      linea += \"Cancer\".ljust(8)\n",
        "                      enfermedades[3][1] += 1\n",
        "                  elif empleados[i][8] == 0:\n",
        "                      linea += \"--------\".ljust(6)\n",
        "              elif elemento == 8:\n",
        "                  if empleados[i][9] == 1:\n",
        "                      linea += \"tabaquismo\".rjust(12)\n",
        "                      enfermedades[4][1] += 1\n",
        "                  elif empleados[i][9] == 0:\n",
        "                      linea += \"----------\".rjust(12)\n",
        "              elif elemento == 9:\n",
        "                  if empleados[i][10] == 1:\n",
        "                      linea += \"Con Vacuna\".rjust(12)\n",
        "                      enfermedades[5][1] += 1\n",
        "                  elif empleados[i][10] == 0:\n",
        "                      linea += \"----------\".rjust(12)\n",
        "          print(linea)\n",
        "      \n",
        "      print(\"Enfermedades\\t Cantidad\\t Porcentaje\")\n",
        "      for enfermedad in range(len(enfermedades)):\n",
        "          porcentaje = enfermedades[enfermedad][1] * 100 / len(empleados)\n",
        "          porcentaje = round(porcentaje, 2)\n",
        "\n",
        "          print(str(enfermedades[enfermedad][0]).ljust(20) + str(enfermedades[enfermedad][1]).ljust(15) \n",
        "          + str(porcentaje)+\"%\")\n",
        "    else:\n",
        "        print(\"NO SE HA REGISTRADO NINGÚN EMPLEADO AÚN.\")\n"
      ],
      "execution_count": null,
      "outputs": []
    },
    {
      "cell_type": "markdown",
      "metadata": {
        "id": "-4577R8eP_16"
      },
      "source": [
        "### Función para terminar el programa\n"
      ]
    },
    {
      "cell_type": "code",
      "metadata": {
        "id": "WiSlrtjEQI0d"
      },
      "source": [
        "def salir():\n",
        "    print(\"PROGRAMA FINALIZADO.\")"
      ],
      "execution_count": null,
      "outputs": []
    },
    {
      "cell_type": "markdown",
      "metadata": {
        "id": "TmQCOe19QQcO"
      },
      "source": [
        "###Desplegar menú de opciones"
      ]
    },
    {
      "cell_type": "code",
      "metadata": {
        "id": "Uivj2jQpQVD2"
      },
      "source": [
        "def menu():\n",
        "    print(\"--------Salud y Bienestar Integral--------\\n\"\n",
        "        \"(1) Alta de empleado\\n(2) Calcular imc de empleado\\n(3) Cambia información del empleado\\n\"\n",
        "        \"(4) Consulta un empleado\\n(5) Reporte de todos los empleados\\n(6) Salir\")\n",
        "    return input(\"\\nTeclea la opción: \")"
      ],
      "execution_count": null,
      "outputs": []
    },
    {
      "cell_type": "markdown",
      "metadata": {
        "id": "BevZx3OE97wN"
      },
      "source": [
        "### Guardar la información en el archivo"
      ]
    },
    {
      "cell_type": "code",
      "metadata": {
        "id": "gZtI2obA-BVU"
      },
      "source": [
        "def grabar_archivo(nombre_archivo, empleados):\n",
        "    with open(nombre_archivo, 'w') as info:\n",
        "        for empleado in empleados:\n",
        "            linea_texto = \"\"\n",
        "            for elemento in empleado:\n",
        "                if empleado.index(elemento) != len(empleado)-1:\n",
        "                    linea_texto += str(elemento) + \",\"\n",
        "                else:\n",
        "                    linea_texto += str(elemento) + '\\n'\n",
        "            info.write(linea_texto)"
      ],
      "execution_count": null,
      "outputs": []
    },
    {
      "cell_type": "markdown",
      "metadata": {
        "id": "IqDM3ceHQb_m"
      },
      "source": [
        "###Función llamada 'main' en la que pasa todo"
      ]
    },
    {
      "cell_type": "code",
      "metadata": {
        "id": "aU_KGODeQmSz"
      },
      "source": [
        "def main(ruta_archivo):\n",
        "    empleados = leer_archivo(ruta_archivo)\n",
        "    opcion = menu()\n",
        "    while opcion != '6':\n",
        "        if opcion == '1':\n",
        "            alta_empleado(empleados)\n",
        "        elif opcion == '2':\n",
        "            calcular_imc(empleados)\n",
        "        elif opcion == '3':\n",
        "            actualizar_empleado(empleados)\n",
        "        elif opcion == '4':\n",
        "            consultar_empleado(empleados)\n",
        "        elif opcion == '5':\n",
        "            reporte_todos_empleados(empleados)\n",
        "        else:\n",
        "            print(\"Opción incorrecta.\")\n",
        "        opcion = input(\"\\nTeclea la opción: \")\n",
        "    grabar_archivo(ruta_archivo, empleados)\n",
        "    salir()"
      ],
      "execution_count": null,
      "outputs": []
    },
    {
      "cell_type": "markdown",
      "metadata": {
        "id": "67MURjnnQ8la"
      },
      "source": [
        "#EJECUTAR PROGRAMA"
      ]
    },
    {
      "cell_type": "code",
      "metadata": {
        "colab": {
          "base_uri": "https://localhost:8080/"
        },
        "id": "QYQ9OqfGRJTd",
        "outputId": "6c92862d-c541-4e86-a38f-ede6711a66bf"
      },
      "source": [
        "import os.path\n",
        "ruta_archivo = '/content/drive/MyDrive/Colab Notebooks/empleados.txt'\n",
        "main(ruta_archivo)"
      ],
      "execution_count": null,
      "outputs": [
        {
          "output_type": "stream",
          "name": "stdout",
          "text": [
            "--------Salud y Bienestar Integral--------\n",
            "(1) Alta de empleado\n",
            "(2) Calcular imc de empleado\n",
            "(3) Cambia información del empleado\n",
            "(4) Consulta un empleado\n",
            "(5) Reporte de todos los empleados\n",
            "(6) Salir\n",
            "\n",
            "Teclea la opción: 2\n",
            "Clasificación IMC   IMC    id    Nombre                          Peso  Altura               Enfermedades                                   Vacuna\n",
            "Sobrepeso            25.62  8     Dilan                          83.0   1.8         --------  ------------  -------- --------  ----------  Con Vacuna\n",
            "Peso normal          22.86  9     Bryan Eduardo Arredondo Ochoa  70.0   1.75        diabetes  ------------  Corazón  --------  tabaquismo  ----------\n",
            "Peso normal          20.7   7     Alexa                          53.0   1.6         --------  ------------  -------- --------  ----------  Con Vacuna\n",
            "   Diagnostico \t  Cantidad \t Porcentaje\n",
            "Peso normal              2         66.67%\n",
            "Sobrepeso                1         33.33%\n",
            "     Total de empleados: 3\n",
            "\n",
            "Teclea la opción: 5\n",
            "id    Nombre                          Peso  Altura               Enfermedades                                   Vacuna\n",
            "8     Dilan                          83.0   1.8         --------  ------------  -------- --------  ----------  Con Vacuna\n",
            "9     Bryan Eduardo Arredondo Ochoa  70.0   1.75        diabetes  ------------  Corazón  --------  tabaquismo  ----------\n",
            "7     Alexa                          53.0   1.6         --------  ------------  -------- --------  ----------  Con Vacuna\n",
            "Enfermedades\t Cantidad\t Porcentaje\n",
            "Diabetes            1              33.33%\n",
            "Hipertensión        0              0.0%\n",
            "Corazón             1              33.33%\n",
            "Cáncer              0              0.0%\n",
            "Tabaquismo          1              33.33%\n",
            "Vacunados           2              66.67%\n",
            "\n",
            "Teclea la opción: 4\n",
            "Teclea el ID del empleado: 8\n",
            "[8, 'Dilan', 19, '83.0', '1.8', 0, 0, 0, 0, 0, 1, 45]\n",
            "\n",
            "Teclea la opción: 6\n",
            "PROGRAMA FINALIZADO.\n"
          ]
        }
      ]
    }
  ]
}
